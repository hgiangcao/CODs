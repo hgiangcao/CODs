{
 "cells": [
  {
   "cell_type": "code",
   "execution_count": 3,
   "id": "f884c7c2",
   "metadata": {},
   "outputs": [
    {
     "name": "stdout",
     "output_type": "stream",
     "text": [
      "The autoreload extension is already loaded. To reload it, use:\n",
      "  %reload_ext autoreload\n"
     ]
    }
   ],
   "source": [
    "%load_ext autoreload\n",
    "%autoreload 2\n",
    "import numpy as np\n",
    "from PIL import Image\n",
    "from numpy.linalg import inv\n",
    "import cv2\n",
    "import time\n",
    "from tqdm import tqdm\n",
    "\n",
    "import sys\n",
    "sys.path.insert(1, '..')\n",
    "from ITRIP.Configuration import config\n",
    "2\n",
    "from DON_Training.DataGenerator_O2O import DataGenerator,loadAllModels,convertToHeatmap,project_real,render,remove_values_from_list\n",
    "from ITRIP.objects_new import graspnet_train\n",
    "import matplotlib.pyplot as plt\n",
    "from ITRIP.Configuration import sceneTypeString\n"
   ]
  },
  {
   "cell_type": "code",
   "execution_count": 5,
   "id": "1f45d5bf",
   "metadata": {},
   "outputs": [
    {
     "name": "stdout",
     "output_type": "stream",
     "text": [
      "(220361, 4)\n"
     ]
    }
   ],
   "source": [
    "dataGenerator = DataGenerator()\n",
    "models, colors = loadAllModels(path=\"../DON_data/\",loadFile=True)\n",
    "dataGenerator.setOriginalModelObjects(models, colors)\n",
    "\n",
    "print (models[0].shape)"
   ]
  },
  {
   "cell_type": "code",
   "execution_count": 24,
   "id": "e4380a94",
   "metadata": {},
   "outputs": [
    {
     "name": "stdout",
     "output_type": "stream",
     "text": [
      "check generate MULTI_DIFFERENT PASSED\n",
      "1.8921252250671388 seconds/pair\n",
      "check generate MULTI_SAME PASSED\n",
      "1.8207969665527344 seconds/pair\n",
      "check generate MULTI_DIFFERENT_REAL PASSED\n",
      "1.2169239044189453 seconds/pair\n",
      "check generate MULTI_SAME_REAL PASSED\n",
      "1.172763967514038 seconds/pair\n",
      "check generate MULTI_SIM_REAL PASSED\n",
      "1.4887131690979003 seconds/pair\n"
     ]
    }
   ],
   "source": [
    "nTry = 5\n",
    "totalTime = np.zeros(5)\n",
    "totalMatchPoint =np.zeros(5)\n",
    "totalNonMatch = np.zeros(5)\n",
    "totalSelect =np.zeros(5)\n",
    "\n",
    "\n",
    "for type_scene in [3,4,5,6,7]:\n",
    "    for i in  (range (nTry)):\n",
    "        #type_scene = 7#  np.random.choice([3,4])#,5,6,7])\n",
    "        augmentationType =   np.random.choice([0,1,2,3])\n",
    "        #print (i,type_scene,augmentationType)\n",
    "        start_time = time.time()\n",
    "        imgA,depthA, imgB,depthB, rawData_1, rawData_2, matches_a, matches_b, _, _, _, _, _, _, nMatchPoint, nNoneMatchPoint   = dataGenerator.generateRandomData(\n",
    "                            pathToScense=\"../DON_data/\", matchType=0, sceneType=type_scene,\n",
    "                            augmentationType=augmentationType, debug=True, isEvaluate=True, isLoadUnseen=False)\n",
    "        end_time = time.time()\n",
    "\n",
    "#         print (nMatchPoint, nNoneMatchPoint)\n",
    "#         print (end_time - start_time,\"seconds\")\n",
    "#         print (sceneTypeString[type_scene])\n",
    "\n",
    "        totalTime[type_scene-3] += (end_time - start_time)\n",
    "        totalMatchPoint[type_scene-3] += nMatchPoint\n",
    "        totalNonMatch[type_scene-3] += nNoneMatchPoint\n",
    "        totalSelect[type_scene-3] +=1\n",
    "\n",
    "        matchImage = Image.fromarray(cv2.cvtColor(cv2.imread(\"matchPoint_O2O.jpg\"),cv2.COLOR_RGB2BGR))\n",
    "        nonMatchImage =Image.fromarray(cv2.cvtColor(cv2.imread(\"MaskNonMatch_O2O.jpg\"),cv2.COLOR_RGB2BGR))\n",
    "        backgroundNonMatch = Image.fromarray(cv2.cvtColor(cv2.imread(\"BackgroundNonMatch_O2O.jpg\"),cv2.COLOR_RGB2BGR))\n",
    "        blindNoneMatch = Image.fromarray(cv2.cvtColor(cv2.imread(\"BlindNonMatch_O2O.jpg\"),cv2.COLOR_RGB2BGR))\n",
    "    print (\"check generate\",sceneTypeString[type_scene],\"PASSED\")\n",
    "    print (totalTime[type_scene-3]/nTry,\"seconds/pair\")\n",
    "#         display(matchImage )\n",
    "#         display(nonMatchImage)\n",
    "#         display(backgroundNonMatch)\n",
    "#         display(blindNoneMatch)\n",
    "print (\"DONE\")\n",
    "totalTime /= nTry\n",
    "totalMatchPoint/= nTry\n",
    "totalNonMatch /= nTry"
   ]
  },
  {
   "cell_type": "code",
   "execution_count": 27,
   "id": "ff9319c4",
   "metadata": {},
   "outputs": [
    {
     "ename": "SyntaxError",
     "evalue": "invalid syntax (<ipython-input-27-0a43110cefd2>, line 3)",
     "output_type": "error",
     "traceback": [
      "\u001b[0;36m  File \u001b[0;32m\"<ipython-input-27-0a43110cefd2>\"\u001b[0;36m, line \u001b[0;32m3\u001b[0m\n\u001b[0;31m    plt.bar(sceneTypeString[3:8],,totalTime)\u001b[0m\n\u001b[0m                                 ^\u001b[0m\n\u001b[0;31mSyntaxError\u001b[0m\u001b[0;31m:\u001b[0m invalid syntax\n"
     ]
    }
   ],
   "source": [
    "print (totalTime)\n",
    "fig = plt.figure(figsize = (10, 5))\n",
    "plt.bar(sceneTypeString[3:8],totalTime)\n",
    "plt.show()\n",
    "\n",
    "fig = plt.figure(figsize = (10, 5))\n",
    "plt.bar(sceneTypeString[3:8],totalMatchPoint)\n",
    "plt.show()\n",
    "\n",
    "fig = plt.figure(figsize = (10, 5))\n",
    "plt.bar(sceneTypeString[3:8],totalNonMatch)\n",
    "plt.show()"
   ]
  },
  {
   "cell_type": "code",
   "execution_count": null,
   "id": "a2097071",
   "metadata": {},
   "outputs": [],
   "source": []
  }
 ],
 "metadata": {
  "kernelspec": {
   "display_name": "Python 3",
   "language": "python",
   "name": "python3"
  },
  "language_info": {
   "codemirror_mode": {
    "name": "ipython",
    "version": 3
   },
   "file_extension": ".py",
   "mimetype": "text/x-python",
   "name": "python",
   "nbconvert_exporter": "python",
   "pygments_lexer": "ipython3",
   "version": "3.7.12"
  }
 },
 "nbformat": 4,
 "nbformat_minor": 5
}
