{
 "cells": [
  {
   "cell_type": "code",
   "execution_count": 1,
   "id": "5c7d40c4",
   "metadata": {},
   "outputs": [
    {
     "name": "stdout",
     "output_type": "stream",
     "text": [
      "scaleCmToPx 0.09598826886969584\n",
      "NVIDIA GeForce GTX 1080 Ti\n",
      "True\n",
      "Successfully created the directory ../DON_Training/tensorboard/CODs_GraspNet_RGBD_Resnet8 \n",
      "log path: ../DON_Training/tensorboard/CODs_GraspNet_RGBD_Resnet8\n",
      "tensorboard cmd: tensorboard --logdir=../DON_Training/tensorboard/CODs_GraspNet_RGBD_Resnet8\n",
      "DONE SETUP NETWORK RES-UNET\n",
      "Creation of the directory ../DON_Training/trained_models/CODs_GraspNet_RGBD_Resnet8 failed\n",
      "save path: ../DON_Training/trained_models/CODs_GraspNet_RGBD_Resnet8\n",
      "torch.Size([2, 8, 256, 256])\n",
      "(220361, 4)\n"
     ]
    }
   ],
   "source": [
    "\n",
    "%load_ext autoreload\n",
    "%autoreload 2\n",
    "import sys\n",
    "sys.path.insert(1, '..')\n",
    "\n",
    "from ITRIP.Configuration import config\n",
    "from DON_Training.training import DONTrainer\n",
    "\n",
    "DON = DONTrainer(config = config)\n",
    "\n"
   ]
  },
  {
   "cell_type": "code",
   "execution_count": null,
   "id": "3dc5cc05",
   "metadata": {},
   "outputs": [
    {
     "name": "stderr",
     "output_type": "stream",
     "text": [
      "\r",
      "  0%|          | 0/43500 [00:00<?, ?it/s]"
     ]
    },
    {
     "name": "stdout",
     "output_type": "stream",
     "text": [
      "Train DON. Mode: RGBD Use models: Resnet\n",
      "train 1000 iterations\n"
     ]
    },
    {
     "name": "stderr",
     "output_type": "stream",
     "text": [
      "  0%|          | 195/43500 [01:08<2:43:12,  4.42it/s]"
     ]
    }
   ],
   "source": [
    "nIteration = 10000\n",
    "print (\"Train DON. Mode:\",config[\"inputMode\"], \"Use models:\", config[\"model\"])\n",
    "\n",
    "print (\"train\",nIteration, \"iterations\")\n",
    "       \n",
    "DON.run(nIteration=nIteration)\n",
    "\n",
    "print (\"DONE training DON\")"
   ]
  },
  {
   "cell_type": "code",
   "execution_count": null,
   "id": "d42f5412",
   "metadata": {},
   "outputs": [],
   "source": [
    "from DON_Training.evaluateDON import evaluateSinglePair\n",
    "\n",
    "result  = evaluateSinglePair(\"CODs_GraspNet_RGBD_Resnet8/DON_1001\",inputMode=\"RGBD\")\n",
    "\n",
    "print (\"DON Result single pair:\")\n",
    "print (\"Error Distance:\",result[0])\n",
    "print (\"Accuracy:\",result[1])"
   ]
  },
  {
   "cell_type": "code",
   "execution_count": null,
   "id": "7dd45f89",
   "metadata": {},
   "outputs": [],
   "source": []
  }
 ],
 "metadata": {
  "kernelspec": {
   "display_name": "Python 3",
   "language": "python",
   "name": "python3"
  },
  "language_info": {
   "codemirror_mode": {
    "name": "ipython",
    "version": 3
   },
   "file_extension": ".py",
   "mimetype": "text/x-python",
   "name": "python",
   "nbconvert_exporter": "python",
   "pygments_lexer": "ipython3",
   "version": "3.7.13"
  }
 },
 "nbformat": 4,
 "nbformat_minor": 5
}
