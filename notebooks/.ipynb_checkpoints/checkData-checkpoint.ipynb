{
 "cells": [
  {
   "cell_type": "code",
   "execution_count": 15,
   "id": "4e9a4e09",
   "metadata": {},
   "outputs": [
    {
     "name": "stdout",
     "output_type": "stream",
     "text": [
      "The autoreload extension is already loaded. To reload it, use:\n",
      "  %reload_ext autoreload\n"
     ]
    }
   ],
   "source": [
    "%load_ext autoreload\n",
    "%autoreload 2\n",
    "import numpy as np\n",
    "from PIL import Image\n",
    "from numpy.linalg import inv\n",
    "import cv2\n",
    "import time\n",
    "from tqdm import tqdm\n",
    "\n",
    "import sys\n",
    "from os import listdir, scandir\n",
    "from os.path import isfile, join, isdir\n",
    "import glob\n",
    "sys.path.insert(1, '..')\n",
    "from ITRIP.Configuration import config\n",
    "\n",
    "\n",
    "def checkFileExist(fileName,messege):\n",
    "    if(isfile(fileName)):\n",
    "        print (messege,\"...\",\"OK\")    \n",
    "    else:\n",
    "        print (messege,\"...\",\"FAIL\")\n",
    "      \n",
    "def checkDirectory(directory,messege):\n",
    "    if(isdir(directory)):\n",
    "        print (messege,\"...\",\"OK\")\n",
    "        \n",
    "    else:\n",
    "        print (messege,\"...\",\"FAIL\")\n",
    "       \n",
    "\n",
    "def checkDataset(pathData,nScene,nImage):\n",
    "    #load all scene\n",
    "    allScene = [ f.path for f in scandir(pathData) if f.is_dir() ]\n",
    "    if (len(allScene) >= nScene):\n",
    "        print (\"Check nScene\", nScene,len(allScene),\"...\", \"OK\")\n",
    "    else:\n",
    "        print (\"Check nScene\", nScene,len(allScene),\"...\", \"FAIL\")\n",
    "    #load all image\n",
    "    \n",
    "    listFileType =[\"*_rgb.jpg\",\"*_depth.png\",\"*.ObjectPoses.txt\",\"*.VisibleMask.txt\",\"*.IndexMap.txt\"]\n",
    "    \n",
    "    for currentScene in allScene:\n",
    "        foundFail = []\n",
    "        for fileType in listFileType:\n",
    "            files = glob.glob(currentScene+\"/\"+fileType)\n",
    "            if (len(files) <= nImage):\n",
    "                foundFail.append((\"check \",fileType,\"...\",\"FAIL\"))\n",
    "        if (len(foundFail) ==0):\n",
    "            print (\"Check Scene\", currentScene, \"OK\")\n",
    "        else:\n",
    "            print (\"Check Scene\", currentScene, \"FAIL\")\n",
    "            print (foundFail)\n",
    "        \n",
    "\n",
    "root =\"../\"\n",
    "    \n"
   ]
  },
  {
   "cell_type": "code",
   "execution_count": 2,
   "id": "3ba1e626",
   "metadata": {},
   "outputs": [
    {
     "name": "stdout",
     "output_type": "stream",
     "text": [
      "Each dataset contains (at least) 5 scenes\n",
      "Each scene conntains (at least) 50 images\n"
     ]
    }
   ],
   "source": [
    "#check config File\n",
    "nScene = config[\"n_scene\"]\n",
    "nImage = config[\"n_image\"]\n",
    "\n",
    "print (\"Each dataset contains (at least)\", nScene,\"scenes\")\n",
    "print (\"Each scene conntains (at least)\", nImage,\"images\")"
   ]
  },
  {
   "cell_type": "code",
   "execution_count": 3,
   "id": "f6e7fd20",
   "metadata": {},
   "outputs": [
    {
     "name": "stdout",
     "output_type": "stream",
     "text": [
      "check model file../DON_data/GraspNet_models/allModels.pkl ... OK\n",
      "check model file../DON_data/GraspNet_models/allModelsColor.pkl ... OK\n"
     ]
    }
   ],
   "source": [
    "#check models\n",
    "fileModel =root +\"DON_data/GraspNet_models/allModels.pkl\"\n",
    "checkFileExist(fileModel,\"check model file\"+ fileModel)\n",
    "\n",
    "fileModelColor =root +\"DON_data/GraspNet_models/allModelsColor.pkl\"\n",
    "checkFileExist(fileModelColor,\"check model file\"+ fileModelColor)\n"
   ]
  },
  {
   "cell_type": "code",
   "execution_count": 4,
   "id": "71f36eb3",
   "metadata": {
    "scrolled": false
   },
   "outputs": [
    {
     "name": "stdout",
     "output_type": "stream",
     "text": [
      "check real data ... OK\n",
      "Check nScene 5 5 ... OK\n",
      "Check Scene ../DON_data/GraspNet_train_O2O_real/Object99/002 OK\n",
      "Check Scene ../DON_data/GraspNet_train_O2O_real/Object99/001 OK\n",
      "Check Scene ../DON_data/GraspNet_train_O2O_real/Object99/003 OK\n",
      "Check Scene ../DON_data/GraspNet_train_O2O_real/Object99/004 OK\n",
      "Check Scene ../DON_data/GraspNet_train_O2O_real/Object99/000 OK\n"
     ]
    }
   ],
   "source": [
    "#check real data\n",
    "pathRealData = root+\"DON_data/GraspNet_train_O2O_real/Object99\"\n",
    "checkDirectory(pathRealData,\"check real data\")\n",
    "checkDataset(pathRealData,nScene,nImage)\n"
   ]
  },
  {
   "cell_type": "code",
   "execution_count": 5,
   "id": "344d1182",
   "metadata": {},
   "outputs": [
    {
     "name": "stdout",
     "output_type": "stream",
     "text": [
      "check Sim_Random_texture data ... OK\n",
      "Check nScene 5 5 ... OK\n",
      "Check Scene ../DON_data/GraspNet_train_O2O_sm_lg_rd/Object99/002 OK\n",
      "Check Scene ../DON_data/GraspNet_train_O2O_sm_lg_rd/Object99/001 OK\n",
      "Check Scene ../DON_data/GraspNet_train_O2O_sm_lg_rd/Object99/003 OK\n",
      "Check Scene ../DON_data/GraspNet_train_O2O_sm_lg_rd/Object99/004 OK\n",
      "Check Scene ../DON_data/GraspNet_train_O2O_sm_lg_rd/Object99/000 OK\n"
     ]
    }
   ],
   "source": [
    "#check real data\n",
    "pathSim_rd_Data = root+\"DON_data/GraspNet_train_O2O_sm_lg_rd/Object99\"\n",
    "checkDirectory(pathSim_rd_Data,\"check Sim_Random_texture data\")\n",
    "checkDataset(pathSim_rd_Data,nScene,nImage)"
   ]
  },
  {
   "cell_type": "code",
   "execution_count": 6,
   "id": "d030e40b",
   "metadata": {},
   "outputs": [
    {
     "name": "stdout",
     "output_type": "stream",
     "text": [
      "check Sim_Random_orig data ... OK\n",
      "Check nScene 5 5 ... OK\n",
      "Check Scene ../DON_data/GraspNet_train_O2O_sm_lg_rd/Object99/002 OK\n",
      "Check Scene ../DON_data/GraspNet_train_O2O_sm_lg_rd/Object99/001 OK\n",
      "Check Scene ../DON_data/GraspNet_train_O2O_sm_lg_rd/Object99/003 OK\n",
      "Check Scene ../DON_data/GraspNet_train_O2O_sm_lg_rd/Object99/004 OK\n",
      "Check Scene ../DON_data/GraspNet_train_O2O_sm_lg_rd/Object99/000 OK\n"
     ]
    }
   ],
   "source": [
    "#check real data\n",
    "pathSim_Orig_Data = root+\"DON_data/GraspNet_train_O2O_sm_lg_rd/Object99\"\n",
    "checkDirectory(pathSim_Orig_Data,\"check Sim_Random_orig data\")\n",
    "checkDataset(pathSim_Orig_Data,nScene,nImage)"
   ]
  },
  {
   "cell_type": "code",
   "execution_count": 19,
   "id": "61895a4b",
   "metadata": {},
   "outputs": [
    {
     "name": "stdout",
     "output_type": "stream",
     "text": [
      "check intrinsic sim file../ITRIP/camera-intrinsics256.txt ... OK\n"
     ]
    }
   ],
   "source": [
    "#check intrinsic\n",
    "#check models\n",
    "fileRealIntrinsic =root +\"ITRIP/\"+config[\"intrisic_matrix_file\"]\n",
    "checkFileExist(fileIntrinsic,\"check intrinsic sim file\"+ fileIntrinsic)\n",
    "\n",
    "#check intrinsic\n",
    "#check models\n",
    "fileSimIntrinsic =root +\"ITRIP/\"+config[\"intrisic_matrix_file\"]\n",
    "checkFileExist(fileIntrinsic,\"check intrinsic real file\"+ fileIntrinsic)"
   ]
  }
 ],
 "metadata": {
  "kernelspec": {
   "display_name": "Python 3",
   "language": "python",
   "name": "python3"
  },
  "language_info": {
   "codemirror_mode": {
    "name": "ipython",
    "version": 3
   },
   "file_extension": ".py",
   "mimetype": "text/x-python",
   "name": "python",
   "nbconvert_exporter": "python",
   "pygments_lexer": "ipython3",
   "version": "3.7.12"
  }
 },
 "nbformat": 4,
 "nbformat_minor": 5
}
