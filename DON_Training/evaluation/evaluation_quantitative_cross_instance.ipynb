{
 "cells": [
  {
   "cell_type": "markdown",
   "metadata": {},
   "source": [
    "## Runs cross-instance quantitative analysis"
   ]
  },
  {
   "cell_type": "code",
   "execution_count": null,
   "metadata": {},
   "outputs": [],
   "source": [
    "import dense_correspondence_manipulation.utils.utils as utils\n",
    "import os\n",
    "\n",
    "utils.add_dense_correspondence_to_python_path()\n",
    "utils.set_cuda_visible_devices([1])\n",
    "\n",
    "from dense_correspondence.evaluation.evaluation import DenseCorrespondenceEvaluation, DenseCorrespondenceEvaluationPlotter\n",
    "from dense_correspondence.dataset.spartan_dataset_masked import SpartanDataset\n",
    "import logging\n",
    "logging.basicConfig(level=logging.INFO)\n",
    "\n",
    "import pandas as pd\n",
    "import numpy as np\n",
    "import time"
   ]
  },
  {
   "cell_type": "code",
   "execution_count": null,
   "metadata": {},
   "outputs": [],
   "source": [
    "eval_config_filename = os.path.join(utils.getDenseCorrespondenceSourceDir(), 'config', 'dense_correspondence',\n",
    "                                    'evaluation',\n",
    "                                    'evaluation.yaml')\n",
    "eval_config = utils.getDictFromYamlFilename(eval_config_filename)\n",
    "dce = DenseCorrespondenceEvaluation(eval_config)"
   ]
  },
  {
   "cell_type": "code",
   "execution_count": null,
   "metadata": {},
   "outputs": [],
   "source": [
    "network_to_evaluate = 'shoes_actually_iterative'\n",
    "cross_instance_labels = 'evaluation_labeled_data/shoe_annotated_keypoints.yaml'\n",
    "full_path_cross_instance_labels = os.path.join(utils.getPdcPath(),cross_instance_labels)\n",
    "\n",
    "network_path = eval_config[\"networks\"][network_to_evaluate][\"path_to_network_params\"]\n",
    "cross_instance_output_dir = os.path.join(os.path.dirname(utils.getDenseCorrespondenceSourceDir()),os.path.dirname(network_path),\"analysis\",\"cross_instance\")\n",
    "print cross_instance_output_dir\n",
    "\n",
    "if not os.path.isdir(cross_instance_output_dir):\n",
    "    os.makedirs(cross_instance_output_dir)\n",
    "cross_instance_csv = os.path.join(cross_instance_output_dir, \"data.csv\")"
   ]
  },
  {
   "cell_type": "code",
   "execution_count": null,
   "metadata": {},
   "outputs": [],
   "source": [
    "import time\n",
    "start = time.time()\n",
    "df = dce.evaluate_single_network_cross_instance(network_to_evaluate, full_path_cross_instance_labels)\n",
    "print \"took\", time.time() - start, \"seconds\""
   ]
  },
  {
   "cell_type": "code",
   "execution_count": null,
   "metadata": {},
   "outputs": [],
   "source": [
    "print cross_instance_csv\n",
    "df.to_csv(cross_instance_csv)"
   ]
  },
  {
   "cell_type": "code",
   "execution_count": null,
   "metadata": {},
   "outputs": [],
   "source": [
    "DCEP = DenseCorrespondenceEvaluationPlotter\n",
    "fig_axes = DCEP.run_on_single_dataframe(cross_instance_csv, label=network_to_evaluate, save=False)"
   ]
  },
  {
   "cell_type": "code",
   "execution_count": null,
   "metadata": {},
   "outputs": [],
   "source": [
    "folder_name = \"2018-10-15\"\n",
    "path_to_nets = os.path.join(\"code/data_volume/pdc/trained_models\", folder_name)\n",
    "path_to_nets = utils.convert_to_absolute_path(path_to_nets)\n",
    "all_nets = sorted(os.listdir(path_to_nets))\n",
    "nets_to_plot = []\n",
    "\n",
    "nets_list = [\"shoes_progress_actually_iterative_23\", \"shoes_3\"]\n",
    "for net in nets_list:\n",
    "    nets_to_plot.append(os.path.join(folder_name,net))"
   ]
  },
  {
   "cell_type": "code",
   "execution_count": null,
   "metadata": {},
   "outputs": [],
   "source": [
    "import matplotlib.pyplot as plt\n",
    "dc_source_dir = utils.getDenseCorrespondenceSourceDir()\n",
    "\n",
    "network_name = nets_to_plot[0]\n",
    "path_to_csv = os.path.join(dc_source_dir, \"data_volume\", \"pdc\", \"trained_models\", network_name, \"analysis/cross_instance/data.csv\")\n",
    "fig_axes = DCEP.run_on_single_dataframe(path_to_csv, label=network_name, save=False)\n",
    "\n",
    "for network_name in nets_to_plot[1:]:\n",
    "    path_to_csv = os.path.join(dc_source_dir, \"data_volume\", \"pdc\", \"trained_models\", network_name, \"analysis/cross_instance/data.csv\")\n",
    "    fig_axes = DCEP.run_on_single_dataframe(path_to_csv, label=network_name, previous_fig_axes=fig_axes, save=False)\n",
    "\n",
    "_, axes = fig_axes\n",
    "axes[0].set_title(\"Cross instance\")\n",
    "plt.show()"
   ]
  },
  {
   "cell_type": "code",
   "execution_count": null,
   "metadata": {},
   "outputs": [],
   "source": []
  }
 ],
 "metadata": {
  "kernelspec": {
   "display_name": "Python 2",
   "language": "python",
   "name": "python2"
  },
  "language_info": {
   "codemirror_mode": {
    "name": "ipython",
    "version": 2
   },
   "file_extension": ".py",
   "mimetype": "text/x-python",
   "name": "python",
   "nbconvert_exporter": "python",
   "pygments_lexer": "ipython2",
   "version": "2.7.12"
  }
 },
 "nbformat": 4,
 "nbformat_minor": 2
}
