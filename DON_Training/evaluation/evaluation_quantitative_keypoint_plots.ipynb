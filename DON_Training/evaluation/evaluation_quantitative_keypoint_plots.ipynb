{
 "cells": [
  {
   "cell_type": "markdown",
   "metadata": {},
   "source": [
    "## Runs cross-instance keypoint analysis"
   ]
  },
  {
   "cell_type": "code",
   "execution_count": null,
   "metadata": {},
   "outputs": [],
   "source": [
    "import dense_correspondence_manipulation.utils.utils as utils\n",
    "import os\n",
    "\n",
    "utils.add_dense_correspondence_to_python_path()\n",
    "utils.set_cuda_visible_devices([1])\n",
    "\n",
    "from dense_correspondence.evaluation.evaluation import DenseCorrespondenceEvaluation, DenseCorrespondenceEvaluationPlotter\n",
    "from dense_correspondence.dataset.spartan_dataset_masked import SpartanDataset\n",
    "\n",
    "DCE = DenseCorrespondenceEvaluation\n",
    "import logging\n",
    "logging.basicConfig(level=logging.INFO)\n",
    "\n",
    "import matplotlib.pyplot as plt\n",
    "\n",
    "import pandas as pd\n",
    "import numpy as np\n",
    "import time"
   ]
  },
  {
   "cell_type": "code",
   "execution_count": null,
   "metadata": {},
   "outputs": [],
   "source": [
    "eval_config_filename = os.path.join(utils.getDenseCorrespondenceSourceDir(), 'config', 'dense_correspondence',\n",
    "                                    'evaluation',\n",
    "                                    'lucas_evaluation.yaml')\n",
    "eval_config = utils.getDictFromYamlFilename(eval_config_filename)\n",
    "dce = DenseCorrespondenceEvaluation(eval_config)"
   ]
  },
  {
   "cell_type": "code",
   "execution_count": null,
   "metadata": {},
   "outputs": [],
   "source": [
    "network_to_evaluate = 'shoes_consistent_M_background_0.500_3'\n",
    "full_path_cross_instance_labels = \"/home/manuelli/code/modules/dense_correspondence_manipulation/simple_pixel_correspondence_labeler/shoe_keypoints_test.yaml\"\n",
    "\n",
    "data_file = \"/home/manuelli/code/sandbox/shoe_keypoints_analysis.csv\"\n",
    "data_file = \"/home/manuelli/code/sandbox/shoe_keypoints_analysis_dev.csv\"\n",
    "df = pd.read_csv(data_file, index_col=0, parse_dates=True)"
   ]
  },
  {
   "cell_type": "markdown",
   "metadata": {},
   "source": [
    "## Make Plots"
   ]
  },
  {
   "cell_type": "markdown",
   "metadata": {},
   "source": [
    "### All keypoints"
   ]
  },
  {
   "cell_type": "code",
   "execution_count": null,
   "metadata": {},
   "outputs": [],
   "source": [
    "DCEP = DenseCorrespondenceEvaluationPlotter\n",
    "fig_axes = DCEP.run_on_single_dataframe(\"test\", label='all', save=False, dataframe=df)"
   ]
  },
  {
   "cell_type": "markdown",
   "metadata": {},
   "source": [
    "### Breakdown by specific keypoint"
   ]
  },
  {
   "cell_type": "code",
   "execution_count": null,
   "metadata": {},
   "outputs": [],
   "source": [
    "keypoint_names = ['top_of_shoelaces', 'heel', 'toe', 'bottom_of_shoelaces']\n",
    "\n",
    "fig_axes = DCEP.run_on_single_dataframe(\"test\", label='all', save=False, dataframe=df)\n",
    "\n",
    "for name in keypoint_names:\n",
    "    new_df = df[(df['keypoint_name'] == name)]\n",
    "    fig_axes = DCEP.run_on_single_dataframe(\"test\", label=name, save=False, \n",
    "                                            previous_fig_axes=fig_axes, dataframe=new_df)\n",
    "\n",
    "\n",
    "_, axes = fig_axes\n",
    "# axes[0].set_title(\"Test Set\")\n",
    "plt.show()"
   ]
  },
  {
   "cell_type": "code",
   "execution_count": null,
   "metadata": {},
   "outputs": [],
   "source": [
    "# print one row of the dataframe\n",
    "df.iloc[0]"
   ]
  }
 ],
 "metadata": {
  "kernelspec": {
   "display_name": "Python 2",
   "language": "python",
   "name": "python2"
  },
  "language_info": {
   "codemirror_mode": {
    "name": "ipython",
    "version": 2
   },
   "file_extension": ".py",
   "mimetype": "text/x-python",
   "name": "python",
   "nbconvert_exporter": "python",
   "pygments_lexer": "ipython2",
   "version": "2.7.12"
  }
 },
 "nbformat": 4,
 "nbformat_minor": 2
}
